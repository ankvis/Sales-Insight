{
 "cells": [
  {
   "cell_type": "markdown",
   "metadata": {},
   "source": [
    "# Data Analysis - Forma AI\n",
    "\n",
    "\n",
    "Data Description\n",
    "There are three tables involved in this question: `transactions`, `segments` and\n",
    "`products`, which simulate a simplified retail data schema.  Here is a semantic\n",
    "description of the tables:\n",
    "\n",
    "- `transactions`: contains detailed information about each product a customer\n",
    "   has purchased.  A transaction consists of one or more products purchased by\n",
    "   a customer indexed by a unique transaction id.\n",
    "   * `trans_id`: the transaction id\n",
    "   * `cust_id`: the customer id\n",
    "   * `prod_id`: the product id\n",
    "   * `item_qty`: the quantity of the product that is being purchased\n",
    "   * `item_price`: the per unit price of the product (NOTE: the total revenue\n",
    "     for a product is `item_qty * item_price`)\n",
    "- `products`: contains detailed attributes about each product.\n",
    "   * `prod_id`: the product id (same meaning as in `transactions`)\n",
    "   * `prod_name`: the product name\n",
    "   * `brand`: the brand of the product\n",
    "   * `category`: the category of the product\n",
    "- `segments`: contains a history of customer segmentation labelling for each\n",
    "   customer.  Segments are computed periodically for all current customers and\n",
    "   appended to the table after each computation.  The current (most up to date)\n",
    "   active segment for each customer is specified by `active_flag = 'Y'` column.\n",
    "   * `cust_id`: the customer id (same meaning as in `transactions`)\n",
    "   * `seg_name`: the segment of this customer\n",
    "   * `update_dt`: the date when this segment was updated\n",
    "   * `active_flag`: whether or not this segment is the active segment for this customer\n",
    "\n",
    "### Steps -\n",
    "\n",
    "1. Joined the 3 tables from the database using the following code - <br>\n",
    "    `select t.trans_id, t.trans_dt, t.cust_id, t.prod_id, t.item_qty, t.item_price,\n",
    "    s.seg_name, s.update_at, s.active_flag, p.prod_name, p.brand, p.category\n",
    "    from transactions t\n",
    "    join segments s\n",
    "    on t.cust_id =  s.cust_id\n",
    "    join products p\n",
    "    on t.prod_id = p.prod_id`\n",
    "2. Saved it as a csv file  called *insights.csv*.\n",
    "    - Visually assessed the data in Microsoft Excel\n",
    "3. In Jupyter Notebook, read the csv file to a dataframe called 'df'.\n",
    "4. Assessed and Cleaned the dataframe. \n",
    "    - Checked for Nulls.\n",
    "    - Checked for Duplicates.\n",
    "    - Inspected dataframe for data discrepencies. \n",
    "    - Found the unique values and top count for number or rows in the dataframe.\n",
    "    - Converted *trans_dt* and *update_at* to datetime datatype.\n",
    "    - Converted *trans_id, cust_id and prod_id* to categorical datatype. \n",
    "    - Extracted months from trans_dt and made a new column called *trans_month*.\n",
    "    - Verified the changes made to the dataframe at various stages.\n",
    "5. Exploratary analysis done by visualizing the data, searching for insights.   \n",
    "6. Based on the findings, summarized the insights. \n",
    "7. Explanatory analysis presented in powerpoint to provide results. "
   ]
  },
  {
   "cell_type": "code",
   "execution_count": 647,
   "metadata": {},
   "outputs": [],
   "source": [
    "#import necessary libraries\n",
    "import pandas as pd\n",
    "import numpy as np\n",
    "import matplotlib.pyplot as plt\n",
    "import seaborn as sb\n",
    "\n",
    "%matplotlib inline"
   ]
  },
  {
   "cell_type": "markdown",
   "metadata": {},
   "source": [
    "## Gather Data"
   ]
  },
  {
   "cell_type": "code",
   "execution_count": 648,
   "metadata": {},
   "outputs": [],
   "source": [
    "#read csv data into the dataframe 'df'\n",
    "df = pd.read_csv('insights.csv')"
   ]
  },
  {
   "cell_type": "markdown",
   "metadata": {},
   "source": [
    "## Assess and Clean Data"
   ]
  },
  {
   "cell_type": "code",
   "execution_count": 649,
   "metadata": {},
   "outputs": [
    {
     "data": {
      "text/html": [
       "<div>\n",
       "<style scoped>\n",
       "    .dataframe tbody tr th:only-of-type {\n",
       "        vertical-align: middle;\n",
       "    }\n",
       "\n",
       "    .dataframe tbody tr th {\n",
       "        vertical-align: top;\n",
       "    }\n",
       "\n",
       "    .dataframe thead th {\n",
       "        text-align: right;\n",
       "    }\n",
       "</style>\n",
       "<table border=\"1\" class=\"dataframe\">\n",
       "  <thead>\n",
       "    <tr style=\"text-align: right;\">\n",
       "      <th></th>\n",
       "      <th>trans_id</th>\n",
       "      <th>trans_dt</th>\n",
       "      <th>cust_id</th>\n",
       "      <th>prod_id</th>\n",
       "      <th>item_qty</th>\n",
       "      <th>item_price</th>\n",
       "      <th>seg_name</th>\n",
       "      <th>update_at</th>\n",
       "      <th>active_flag</th>\n",
       "      <th>prod_name</th>\n",
       "      <th>brand</th>\n",
       "      <th>category</th>\n",
       "    </tr>\n",
       "  </thead>\n",
       "  <tbody>\n",
       "    <tr>\n",
       "      <th>0</th>\n",
       "      <td>1</td>\n",
       "      <td>2016-01-02 10:06:00</td>\n",
       "      <td>9085146</td>\n",
       "      <td>223029</td>\n",
       "      <td>1</td>\n",
       "      <td>42.99</td>\n",
       "      <td>GONE AWAY</td>\n",
       "      <td>2015-11-01 00:00:00</td>\n",
       "      <td>N</td>\n",
       "      <td>Product 223029</td>\n",
       "      <td>L</td>\n",
       "      <td>Make up</td>\n",
       "    </tr>\n",
       "    <tr>\n",
       "      <th>1</th>\n",
       "      <td>1</td>\n",
       "      <td>2016-01-02 10:06:00</td>\n",
       "      <td>9085146</td>\n",
       "      <td>223029</td>\n",
       "      <td>1</td>\n",
       "      <td>42.99</td>\n",
       "      <td>INACTIVE</td>\n",
       "      <td>2014-09-01 00:00:00</td>\n",
       "      <td>N</td>\n",
       "      <td>Product 223029</td>\n",
       "      <td>L</td>\n",
       "      <td>Make up</td>\n",
       "    </tr>\n",
       "    <tr>\n",
       "      <th>2</th>\n",
       "      <td>1</td>\n",
       "      <td>2016-01-02 10:06:00</td>\n",
       "      <td>9085146</td>\n",
       "      <td>223029</td>\n",
       "      <td>1</td>\n",
       "      <td>42.99</td>\n",
       "      <td>INACTIVE</td>\n",
       "      <td>2016-01-01 00:00:00</td>\n",
       "      <td>N</td>\n",
       "      <td>Product 223029</td>\n",
       "      <td>L</td>\n",
       "      <td>Make up</td>\n",
       "    </tr>\n",
       "    <tr>\n",
       "      <th>3</th>\n",
       "      <td>1</td>\n",
       "      <td>2016-01-02 10:06:00</td>\n",
       "      <td>9085146</td>\n",
       "      <td>223029</td>\n",
       "      <td>1</td>\n",
       "      <td>42.99</td>\n",
       "      <td>LAPSED</td>\n",
       "      <td>2014-01-01 00:00:00</td>\n",
       "      <td>N</td>\n",
       "      <td>Product 223029</td>\n",
       "      <td>L</td>\n",
       "      <td>Make up</td>\n",
       "    </tr>\n",
       "    <tr>\n",
       "      <th>4</th>\n",
       "      <td>1</td>\n",
       "      <td>2016-01-02 10:06:00</td>\n",
       "      <td>9085146</td>\n",
       "      <td>223029</td>\n",
       "      <td>1</td>\n",
       "      <td>42.99</td>\n",
       "      <td>LAPSED</td>\n",
       "      <td>2014-03-01 00:00:00</td>\n",
       "      <td>N</td>\n",
       "      <td>Product 223029</td>\n",
       "      <td>L</td>\n",
       "      <td>Make up</td>\n",
       "    </tr>\n",
       "  </tbody>\n",
       "</table>\n",
       "</div>"
      ],
      "text/plain": [
       "   trans_id             trans_dt  cust_id  prod_id  item_qty  item_price  \\\n",
       "0         1  2016-01-02 10:06:00  9085146   223029         1       42.99   \n",
       "1         1  2016-01-02 10:06:00  9085146   223029         1       42.99   \n",
       "2         1  2016-01-02 10:06:00  9085146   223029         1       42.99   \n",
       "3         1  2016-01-02 10:06:00  9085146   223029         1       42.99   \n",
       "4         1  2016-01-02 10:06:00  9085146   223029         1       42.99   \n",
       "\n",
       "    seg_name            update_at active_flag       prod_name brand category  \n",
       "0  GONE AWAY  2015-11-01 00:00:00           N  Product 223029     L  Make up  \n",
       "1   INACTIVE  2014-09-01 00:00:00           N  Product 223029     L  Make up  \n",
       "2   INACTIVE  2016-01-01 00:00:00           N  Product 223029     L  Make up  \n",
       "3     LAPSED  2014-01-01 00:00:00           N  Product 223029     L  Make up  \n",
       "4     LAPSED  2014-03-01 00:00:00           N  Product 223029     L  Make up  "
      ]
     },
     "execution_count": 649,
     "metadata": {},
     "output_type": "execute_result"
    }
   ],
   "source": [
    "#display few rows of the dataframe\n",
    "df.head()"
   ]
  },
  {
   "cell_type": "code",
   "execution_count": 650,
   "metadata": {},
   "outputs": [
    {
     "data": {
      "text/plain": [
       "(18097, 12)"
      ]
     },
     "execution_count": 650,
     "metadata": {},
     "output_type": "execute_result"
    }
   ],
   "source": [
    "#display number of rows and columns of the dataframe\n",
    "df.shape"
   ]
  },
  {
   "cell_type": "markdown",
   "metadata": {},
   "source": [
    "> The original dataframe has **18097 rows** and **12 columns**"
   ]
  },
  {
   "cell_type": "code",
   "execution_count": 651,
   "metadata": {},
   "outputs": [
    {
     "name": "stdout",
     "output_type": "stream",
     "text": [
      "<class 'pandas.core.frame.DataFrame'>\n",
      "RangeIndex: 18097 entries, 0 to 18096\n",
      "Data columns (total 12 columns):\n",
      " #   Column       Non-Null Count  Dtype  \n",
      "---  ------       --------------  -----  \n",
      " 0   trans_id     18097 non-null  int64  \n",
      " 1   trans_dt     18097 non-null  object \n",
      " 2   cust_id      18097 non-null  int64  \n",
      " 3   prod_id      18097 non-null  int64  \n",
      " 4   item_qty     18097 non-null  int64  \n",
      " 5   item_price   18097 non-null  float64\n",
      " 6   seg_name     18097 non-null  object \n",
      " 7   update_at    18097 non-null  object \n",
      " 8   active_flag  18097 non-null  object \n",
      " 9   prod_name    18097 non-null  object \n",
      " 10  brand        18097 non-null  object \n",
      " 11  category     18097 non-null  object \n",
      "dtypes: float64(1), int64(4), object(7)\n",
      "memory usage: 1.7+ MB\n"
     ]
    }
   ],
   "source": [
    "#summary of dataframe\n",
    "df.info()"
   ]
  },
  {
   "cell_type": "code",
   "execution_count": 652,
   "metadata": {},
   "outputs": [
    {
     "data": {
      "text/plain": [
       "trans_id       0\n",
       "trans_dt       0\n",
       "cust_id        0\n",
       "prod_id        0\n",
       "item_qty       0\n",
       "item_price     0\n",
       "seg_name       0\n",
       "update_at      0\n",
       "active_flag    0\n",
       "prod_name      0\n",
       "brand          0\n",
       "category       0\n",
       "dtype: int64"
      ]
     },
     "execution_count": 652,
     "metadata": {},
     "output_type": "execute_result"
    }
   ],
   "source": [
    "#Check for null values\n",
    "df.isnull().sum()"
   ]
  },
  {
   "cell_type": "markdown",
   "metadata": {},
   "source": [
    "> No Null values are found"
   ]
  },
  {
   "cell_type": "code",
   "execution_count": 653,
   "metadata": {},
   "outputs": [
    {
     "data": {
      "text/plain": [
       "2"
      ]
     },
     "execution_count": 653,
     "metadata": {},
     "output_type": "execute_result"
    }
   ],
   "source": [
    "#check for duplicate values\n",
    "df.duplicated().sum()"
   ]
  },
  {
   "cell_type": "markdown",
   "metadata": {},
   "source": [
    "> Dataframe seems to have duplicates"
   ]
  },
  {
   "cell_type": "code",
   "execution_count": 654,
   "metadata": {},
   "outputs": [
    {
     "data": {
      "text/html": [
       "<div>\n",
       "<style scoped>\n",
       "    .dataframe tbody tr th:only-of-type {\n",
       "        vertical-align: middle;\n",
       "    }\n",
       "\n",
       "    .dataframe tbody tr th {\n",
       "        vertical-align: top;\n",
       "    }\n",
       "\n",
       "    .dataframe thead th {\n",
       "        text-align: right;\n",
       "    }\n",
       "</style>\n",
       "<table border=\"1\" class=\"dataframe\">\n",
       "  <thead>\n",
       "    <tr style=\"text-align: right;\">\n",
       "      <th></th>\n",
       "      <th>trans_id</th>\n",
       "      <th>trans_dt</th>\n",
       "      <th>cust_id</th>\n",
       "      <th>prod_id</th>\n",
       "      <th>item_qty</th>\n",
       "      <th>item_price</th>\n",
       "      <th>seg_name</th>\n",
       "      <th>update_at</th>\n",
       "      <th>active_flag</th>\n",
       "      <th>prod_name</th>\n",
       "      <th>brand</th>\n",
       "      <th>category</th>\n",
       "    </tr>\n",
       "  </thead>\n",
       "  <tbody>\n",
       "    <tr>\n",
       "      <th>9880</th>\n",
       "      <td>1620</td>\n",
       "      <td>2016-01-02 11:02:00</td>\n",
       "      <td>9960002</td>\n",
       "      <td>223909</td>\n",
       "      <td>1</td>\n",
       "      <td>31.99</td>\n",
       "      <td>GONE AWAY</td>\n",
       "      <td>2015-06-01 00:00:00</td>\n",
       "      <td>N</td>\n",
       "      <td>Product 223909</td>\n",
       "      <td>L</td>\n",
       "      <td>Make up</td>\n",
       "    </tr>\n",
       "    <tr>\n",
       "      <th>9881</th>\n",
       "      <td>1620</td>\n",
       "      <td>2016-01-02 11:02:00</td>\n",
       "      <td>9960002</td>\n",
       "      <td>223909</td>\n",
       "      <td>1</td>\n",
       "      <td>31.99</td>\n",
       "      <td>ONE-OFFS</td>\n",
       "      <td>2016-02-01 00:00:00</td>\n",
       "      <td>Y</td>\n",
       "      <td>Product 223909</td>\n",
       "      <td>L</td>\n",
       "      <td>Make up</td>\n",
       "    </tr>\n",
       "  </tbody>\n",
       "</table>\n",
       "</div>"
      ],
      "text/plain": [
       "      trans_id             trans_dt  cust_id  prod_id  item_qty  item_price  \\\n",
       "9880      1620  2016-01-02 11:02:00  9960002   223909         1       31.99   \n",
       "9881      1620  2016-01-02 11:02:00  9960002   223909         1       31.99   \n",
       "\n",
       "       seg_name            update_at active_flag       prod_name brand  \\\n",
       "9880  GONE AWAY  2015-06-01 00:00:00           N  Product 223909     L   \n",
       "9881   ONE-OFFS  2016-02-01 00:00:00           Y  Product 223909     L   \n",
       "\n",
       "     category  \n",
       "9880  Make up  \n",
       "9881  Make up  "
      ]
     },
     "execution_count": 654,
     "metadata": {},
     "output_type": "execute_result"
    }
   ],
   "source": [
    "#display the the duplicated rows\n",
    "df[df.duplicated()]"
   ]
  },
  {
   "cell_type": "code",
   "execution_count": 655,
   "metadata": {},
   "outputs": [],
   "source": [
    "#drop duplicates, keeping the last record because the active_flag = Y\n",
    "df.drop_duplicates(inplace = True)"
   ]
  },
  {
   "cell_type": "code",
   "execution_count": 656,
   "metadata": {},
   "outputs": [
    {
     "data": {
      "text/plain": [
       "(0, (18095, 12))"
      ]
     },
     "execution_count": 656,
     "metadata": {},
     "output_type": "execute_result"
    }
   ],
   "source": [
    "#verify the duplicates have been dropped\n",
    "df.duplicated().sum(), df.shape"
   ]
  },
  {
   "cell_type": "code",
   "execution_count": 657,
   "metadata": {},
   "outputs": [
    {
     "data": {
      "text/html": [
       "<div>\n",
       "<style scoped>\n",
       "    .dataframe tbody tr th:only-of-type {\n",
       "        vertical-align: middle;\n",
       "    }\n",
       "\n",
       "    .dataframe tbody tr th {\n",
       "        vertical-align: top;\n",
       "    }\n",
       "\n",
       "    .dataframe thead th {\n",
       "        text-align: right;\n",
       "    }\n",
       "</style>\n",
       "<table border=\"1\" class=\"dataframe\">\n",
       "  <thead>\n",
       "    <tr style=\"text-align: right;\">\n",
       "      <th></th>\n",
       "      <th>trans_id</th>\n",
       "      <th>trans_dt</th>\n",
       "      <th>cust_id</th>\n",
       "      <th>prod_id</th>\n",
       "      <th>item_qty</th>\n",
       "      <th>item_price</th>\n",
       "      <th>seg_name</th>\n",
       "      <th>update_at</th>\n",
       "      <th>active_flag</th>\n",
       "      <th>prod_name</th>\n",
       "      <th>brand</th>\n",
       "      <th>category</th>\n",
       "    </tr>\n",
       "  </thead>\n",
       "  <tbody>\n",
       "    <tr>\n",
       "      <th>9878</th>\n",
       "      <td>1620</td>\n",
       "      <td>2016-01-02 11:02:00</td>\n",
       "      <td>9960002</td>\n",
       "      <td>223909</td>\n",
       "      <td>1</td>\n",
       "      <td>31.99</td>\n",
       "      <td>GONE AWAY</td>\n",
       "      <td>2015-06-01 00:00:00</td>\n",
       "      <td>N</td>\n",
       "      <td>Product 223909</td>\n",
       "      <td>L</td>\n",
       "      <td>Make up</td>\n",
       "    </tr>\n",
       "    <tr>\n",
       "      <th>9879</th>\n",
       "      <td>1620</td>\n",
       "      <td>2016-01-02 11:02:00</td>\n",
       "      <td>9960002</td>\n",
       "      <td>223909</td>\n",
       "      <td>1</td>\n",
       "      <td>31.99</td>\n",
       "      <td>ONE-OFFS</td>\n",
       "      <td>2016-02-01 00:00:00</td>\n",
       "      <td>Y</td>\n",
       "      <td>Product 223909</td>\n",
       "      <td>L</td>\n",
       "      <td>Make up</td>\n",
       "    </tr>\n",
       "  </tbody>\n",
       "</table>\n",
       "</div>"
      ],
      "text/plain": [
       "      trans_id             trans_dt  cust_id  prod_id  item_qty  item_price  \\\n",
       "9878      1620  2016-01-02 11:02:00  9960002   223909         1       31.99   \n",
       "9879      1620  2016-01-02 11:02:00  9960002   223909         1       31.99   \n",
       "\n",
       "       seg_name            update_at active_flag       prod_name brand  \\\n",
       "9878  GONE AWAY  2015-06-01 00:00:00           N  Product 223909     L   \n",
       "9879   ONE-OFFS  2016-02-01 00:00:00           Y  Product 223909     L   \n",
       "\n",
       "     category  \n",
       "9878  Make up  \n",
       "9879  Make up  "
      ]
     },
     "execution_count": 657,
     "metadata": {},
     "output_type": "execute_result"
    }
   ],
   "source": [
    "df[df['trans_id'] == 1620]"
   ]
  },
  {
   "cell_type": "markdown",
   "metadata": {},
   "source": [
    "> The duplicates (row - 9880 and 9881) have been dropped, now we have 18095 entries"
   ]
  },
  {
   "cell_type": "code",
   "execution_count": 658,
   "metadata": {},
   "outputs": [
    {
     "data": {
      "text/html": [
       "<div>\n",
       "<style scoped>\n",
       "    .dataframe tbody tr th:only-of-type {\n",
       "        vertical-align: middle;\n",
       "    }\n",
       "\n",
       "    .dataframe tbody tr th {\n",
       "        vertical-align: top;\n",
       "    }\n",
       "\n",
       "    .dataframe thead th {\n",
       "        text-align: right;\n",
       "    }\n",
       "</style>\n",
       "<table border=\"1\" class=\"dataframe\">\n",
       "  <thead>\n",
       "    <tr style=\"text-align: right;\">\n",
       "      <th></th>\n",
       "      <th>trans_id</th>\n",
       "      <th>cust_id</th>\n",
       "      <th>prod_id</th>\n",
       "      <th>item_qty</th>\n",
       "      <th>item_price</th>\n",
       "    </tr>\n",
       "  </thead>\n",
       "  <tbody>\n",
       "    <tr>\n",
       "      <th>count</th>\n",
       "      <td>18095.000000</td>\n",
       "      <td>1.809500e+04</td>\n",
       "      <td>1.809500e+04</td>\n",
       "      <td>18095.000000</td>\n",
       "      <td>18095.000000</td>\n",
       "    </tr>\n",
       "    <tr>\n",
       "      <th>mean</th>\n",
       "      <td>1418.033987</td>\n",
       "      <td>8.705213e+06</td>\n",
       "      <td>7.344467e+07</td>\n",
       "      <td>1.050014</td>\n",
       "      <td>37.366029</td>\n",
       "    </tr>\n",
       "    <tr>\n",
       "      <th>std</th>\n",
       "      <td>777.953111</td>\n",
       "      <td>5.132218e+06</td>\n",
       "      <td>1.113840e+08</td>\n",
       "      <td>0.274736</td>\n",
       "      <td>26.949988</td>\n",
       "    </tr>\n",
       "    <tr>\n",
       "      <th>min</th>\n",
       "      <td>1.000000</td>\n",
       "      <td>4.402000e+03</td>\n",
       "      <td>1.999220e+05</td>\n",
       "      <td>1.000000</td>\n",
       "      <td>0.400000</td>\n",
       "    </tr>\n",
       "    <tr>\n",
       "      <th>25%</th>\n",
       "      <td>747.000000</td>\n",
       "      <td>4.134518e+06</td>\n",
       "      <td>2.507560e+05</td>\n",
       "      <td>1.000000</td>\n",
       "      <td>19.990000</td>\n",
       "    </tr>\n",
       "    <tr>\n",
       "      <th>50%</th>\n",
       "      <td>1483.000000</td>\n",
       "      <td>8.468925e+06</td>\n",
       "      <td>4.082950e+05</td>\n",
       "      <td>1.000000</td>\n",
       "      <td>31.990000</td>\n",
       "    </tr>\n",
       "    <tr>\n",
       "      <th>75%</th>\n",
       "      <td>2105.000000</td>\n",
       "      <td>1.307541e+07</td>\n",
       "      <td>1.382621e+08</td>\n",
       "      <td>1.000000</td>\n",
       "      <td>49.990000</td>\n",
       "    </tr>\n",
       "    <tr>\n",
       "      <th>max</th>\n",
       "      <td>2666.000000</td>\n",
       "      <td>2.123399e+07</td>\n",
       "      <td>4.078207e+08</td>\n",
       "      <td>4.000000</td>\n",
       "      <td>215.950000</td>\n",
       "    </tr>\n",
       "  </tbody>\n",
       "</table>\n",
       "</div>"
      ],
      "text/plain": [
       "           trans_id       cust_id       prod_id      item_qty    item_price\n",
       "count  18095.000000  1.809500e+04  1.809500e+04  18095.000000  18095.000000\n",
       "mean    1418.033987  8.705213e+06  7.344467e+07      1.050014     37.366029\n",
       "std      777.953111  5.132218e+06  1.113840e+08      0.274736     26.949988\n",
       "min        1.000000  4.402000e+03  1.999220e+05      1.000000      0.400000\n",
       "25%      747.000000  4.134518e+06  2.507560e+05      1.000000     19.990000\n",
       "50%     1483.000000  8.468925e+06  4.082950e+05      1.000000     31.990000\n",
       "75%     2105.000000  1.307541e+07  1.382621e+08      1.000000     49.990000\n",
       "max     2666.000000  2.123399e+07  4.078207e+08      4.000000    215.950000"
      ]
     },
     "execution_count": 658,
     "metadata": {},
     "output_type": "execute_result"
    }
   ],
   "source": [
    "#description of quntitative data\n",
    "df.describe()"
   ]
  },
  {
   "cell_type": "code",
   "execution_count": 659,
   "metadata": {
    "scrolled": true
   },
   "outputs": [
    {
     "data": {
      "text/html": [
       "<div>\n",
       "<style scoped>\n",
       "    .dataframe tbody tr th:only-of-type {\n",
       "        vertical-align: middle;\n",
       "    }\n",
       "\n",
       "    .dataframe tbody tr th {\n",
       "        vertical-align: top;\n",
       "    }\n",
       "\n",
       "    .dataframe thead th {\n",
       "        text-align: right;\n",
       "    }\n",
       "</style>\n",
       "<table border=\"1\" class=\"dataframe\">\n",
       "  <thead>\n",
       "    <tr style=\"text-align: right;\">\n",
       "      <th></th>\n",
       "      <th>trans_id</th>\n",
       "      <th>trans_dt</th>\n",
       "      <th>cust_id</th>\n",
       "      <th>prod_id</th>\n",
       "      <th>item_qty</th>\n",
       "      <th>item_price</th>\n",
       "      <th>seg_name</th>\n",
       "      <th>update_at</th>\n",
       "      <th>active_flag</th>\n",
       "      <th>prod_name</th>\n",
       "      <th>brand</th>\n",
       "      <th>category</th>\n",
       "    </tr>\n",
       "  </thead>\n",
       "  <tbody>\n",
       "    <tr>\n",
       "      <th>298</th>\n",
       "      <td>58</td>\n",
       "      <td>2016-01-02 12:02:00</td>\n",
       "      <td>4486900</td>\n",
       "      <td>249114</td>\n",
       "      <td>1</td>\n",
       "      <td>24.99</td>\n",
       "      <td>VIP</td>\n",
       "      <td>2014-01-01 00:00:00</td>\n",
       "      <td>N</td>\n",
       "      <td>Product 249114</td>\n",
       "      <td>C</td>\n",
       "      <td>Make up</td>\n",
       "    </tr>\n",
       "    <tr>\n",
       "      <th>310</th>\n",
       "      <td>62</td>\n",
       "      <td>2016-01-02 15:51:00</td>\n",
       "      <td>14225812</td>\n",
       "      <td>261117</td>\n",
       "      <td>1</td>\n",
       "      <td>15.99</td>\n",
       "      <td>VIP</td>\n",
       "      <td>2014-01-01 00:00:00</td>\n",
       "      <td>N</td>\n",
       "      <td>Product 261117</td>\n",
       "      <td>G</td>\n",
       "      <td>Make up</td>\n",
       "    </tr>\n",
       "    <tr>\n",
       "      <th>311</th>\n",
       "      <td>62</td>\n",
       "      <td>2016-01-02 15:51:00</td>\n",
       "      <td>14225812</td>\n",
       "      <td>261117</td>\n",
       "      <td>1</td>\n",
       "      <td>15.99</td>\n",
       "      <td>VIP</td>\n",
       "      <td>2014-10-01 00:00:00</td>\n",
       "      <td>N</td>\n",
       "      <td>Product 261117</td>\n",
       "      <td>G</td>\n",
       "      <td>Make up</td>\n",
       "    </tr>\n",
       "    <tr>\n",
       "      <th>312</th>\n",
       "      <td>62</td>\n",
       "      <td>2016-01-02 15:51:00</td>\n",
       "      <td>14225812</td>\n",
       "      <td>261117</td>\n",
       "      <td>1</td>\n",
       "      <td>15.99</td>\n",
       "      <td>VIP</td>\n",
       "      <td>2015-05-01 00:00:00</td>\n",
       "      <td>N</td>\n",
       "      <td>Product 261117</td>\n",
       "      <td>G</td>\n",
       "      <td>Make up</td>\n",
       "    </tr>\n",
       "    <tr>\n",
       "      <th>317</th>\n",
       "      <td>62</td>\n",
       "      <td>2016-01-02 15:51:00</td>\n",
       "      <td>14225812</td>\n",
       "      <td>268232</td>\n",
       "      <td>1</td>\n",
       "      <td>15.99</td>\n",
       "      <td>VIP</td>\n",
       "      <td>2014-01-01 00:00:00</td>\n",
       "      <td>N</td>\n",
       "      <td>Product 268232</td>\n",
       "      <td>G</td>\n",
       "      <td>Make up</td>\n",
       "    </tr>\n",
       "    <tr>\n",
       "      <th>...</th>\n",
       "      <td>...</td>\n",
       "      <td>...</td>\n",
       "      <td>...</td>\n",
       "      <td>...</td>\n",
       "      <td>...</td>\n",
       "      <td>...</td>\n",
       "      <td>...</td>\n",
       "      <td>...</td>\n",
       "      <td>...</td>\n",
       "      <td>...</td>\n",
       "      <td>...</td>\n",
       "      <td>...</td>\n",
       "    </tr>\n",
       "    <tr>\n",
       "      <th>18073</th>\n",
       "      <td>2662</td>\n",
       "      <td>2016-06-18 10:00:00</td>\n",
       "      <td>3649704</td>\n",
       "      <td>364872356</td>\n",
       "      <td>1</td>\n",
       "      <td>41.99</td>\n",
       "      <td>VIP</td>\n",
       "      <td>2015-01-01 00:00:00</td>\n",
       "      <td>N</td>\n",
       "      <td>Product 364872356</td>\n",
       "      <td>L</td>\n",
       "      <td>Sun</td>\n",
       "    </tr>\n",
       "    <tr>\n",
       "      <th>18074</th>\n",
       "      <td>2662</td>\n",
       "      <td>2016-06-18 10:00:00</td>\n",
       "      <td>3649704</td>\n",
       "      <td>364872356</td>\n",
       "      <td>1</td>\n",
       "      <td>41.99</td>\n",
       "      <td>VIP</td>\n",
       "      <td>2015-05-01 00:00:00</td>\n",
       "      <td>N</td>\n",
       "      <td>Product 364872356</td>\n",
       "      <td>L</td>\n",
       "      <td>Sun</td>\n",
       "    </tr>\n",
       "    <tr>\n",
       "      <th>18075</th>\n",
       "      <td>2662</td>\n",
       "      <td>2016-06-18 10:00:00</td>\n",
       "      <td>3649704</td>\n",
       "      <td>364872356</td>\n",
       "      <td>1</td>\n",
       "      <td>41.99</td>\n",
       "      <td>VIP</td>\n",
       "      <td>2015-08-01 00:00:00</td>\n",
       "      <td>N</td>\n",
       "      <td>Product 364872356</td>\n",
       "      <td>L</td>\n",
       "      <td>Sun</td>\n",
       "    </tr>\n",
       "    <tr>\n",
       "      <th>18089</th>\n",
       "      <td>2665</td>\n",
       "      <td>2016-06-18 17:51:00</td>\n",
       "      <td>4095901</td>\n",
       "      <td>277123</td>\n",
       "      <td>1</td>\n",
       "      <td>89.99</td>\n",
       "      <td>VIP</td>\n",
       "      <td>2014-06-01 00:00:00</td>\n",
       "      <td>N</td>\n",
       "      <td>Product 277123</td>\n",
       "      <td>G</td>\n",
       "      <td>Men</td>\n",
       "    </tr>\n",
       "    <tr>\n",
       "      <th>18090</th>\n",
       "      <td>2665</td>\n",
       "      <td>2016-06-18 17:51:00</td>\n",
       "      <td>4095901</td>\n",
       "      <td>277123</td>\n",
       "      <td>1</td>\n",
       "      <td>89.99</td>\n",
       "      <td>VIP</td>\n",
       "      <td>2015-02-01 00:00:00</td>\n",
       "      <td>N</td>\n",
       "      <td>Product 277123</td>\n",
       "      <td>G</td>\n",
       "      <td>Men</td>\n",
       "    </tr>\n",
       "  </tbody>\n",
       "</table>\n",
       "<p>3652 rows × 12 columns</p>\n",
       "</div>"
      ],
      "text/plain": [
       "       trans_id             trans_dt   cust_id    prod_id  item_qty  \\\n",
       "298          58  2016-01-02 12:02:00   4486900     249114         1   \n",
       "310          62  2016-01-02 15:51:00  14225812     261117         1   \n",
       "311          62  2016-01-02 15:51:00  14225812     261117         1   \n",
       "312          62  2016-01-02 15:51:00  14225812     261117         1   \n",
       "317          62  2016-01-02 15:51:00  14225812     268232         1   \n",
       "...         ...                  ...       ...        ...       ...   \n",
       "18073      2662  2016-06-18 10:00:00   3649704  364872356         1   \n",
       "18074      2662  2016-06-18 10:00:00   3649704  364872356         1   \n",
       "18075      2662  2016-06-18 10:00:00   3649704  364872356         1   \n",
       "18089      2665  2016-06-18 17:51:00   4095901     277123         1   \n",
       "18090      2665  2016-06-18 17:51:00   4095901     277123         1   \n",
       "\n",
       "       item_price seg_name            update_at active_flag  \\\n",
       "298         24.99      VIP  2014-01-01 00:00:00           N   \n",
       "310         15.99      VIP  2014-01-01 00:00:00           N   \n",
       "311         15.99      VIP  2014-10-01 00:00:00           N   \n",
       "312         15.99      VIP  2015-05-01 00:00:00           N   \n",
       "317         15.99      VIP  2014-01-01 00:00:00           N   \n",
       "...           ...      ...                  ...         ...   \n",
       "18073       41.99      VIP  2015-01-01 00:00:00           N   \n",
       "18074       41.99      VIP  2015-05-01 00:00:00           N   \n",
       "18075       41.99      VIP  2015-08-01 00:00:00           N   \n",
       "18089       89.99      VIP  2014-06-01 00:00:00           N   \n",
       "18090       89.99      VIP  2015-02-01 00:00:00           N   \n",
       "\n",
       "               prod_name brand category  \n",
       "298       Product 249114     C  Make up  \n",
       "310       Product 261117     G  Make up  \n",
       "311       Product 261117     G  Make up  \n",
       "312       Product 261117     G  Make up  \n",
       "317       Product 268232     G  Make up  \n",
       "...                  ...   ...      ...  \n",
       "18073  Product 364872356     L      Sun  \n",
       "18074  Product 364872356     L      Sun  \n",
       "18075  Product 364872356     L      Sun  \n",
       "18089     Product 277123     G      Men  \n",
       "18090     Product 277123     G      Men  \n",
       "\n",
       "[3652 rows x 12 columns]"
      ]
     },
     "execution_count": 659,
     "metadata": {},
     "output_type": "execute_result"
    }
   ],
   "source": [
    "df[(df['active_flag'] == 'N') & (df['seg_name'] == 'VIP')]"
   ]
  },
  {
   "cell_type": "code",
   "execution_count": 660,
   "metadata": {},
   "outputs": [
    {
     "data": {
      "text/html": [
       "<div>\n",
       "<style scoped>\n",
       "    .dataframe tbody tr th:only-of-type {\n",
       "        vertical-align: middle;\n",
       "    }\n",
       "\n",
       "    .dataframe tbody tr th {\n",
       "        vertical-align: top;\n",
       "    }\n",
       "\n",
       "    .dataframe thead th {\n",
       "        text-align: right;\n",
       "    }\n",
       "</style>\n",
       "<table border=\"1\" class=\"dataframe\">\n",
       "  <thead>\n",
       "    <tr style=\"text-align: right;\">\n",
       "      <th></th>\n",
       "      <th>trans_id</th>\n",
       "      <th>trans_dt</th>\n",
       "      <th>cust_id</th>\n",
       "      <th>prod_id</th>\n",
       "      <th>item_qty</th>\n",
       "      <th>item_price</th>\n",
       "      <th>seg_name</th>\n",
       "      <th>update_at</th>\n",
       "      <th>active_flag</th>\n",
       "      <th>prod_name</th>\n",
       "      <th>brand</th>\n",
       "      <th>category</th>\n",
       "    </tr>\n",
       "  </thead>\n",
       "  <tbody>\n",
       "    <tr>\n",
       "      <th>47</th>\n",
       "      <td>9</td>\n",
       "      <td>2016-01-02 11:55:00</td>\n",
       "      <td>5904487</td>\n",
       "      <td>258744</td>\n",
       "      <td>1</td>\n",
       "      <td>38.99</td>\n",
       "      <td>LOYAL</td>\n",
       "      <td>2014-05-01 00:00:00</td>\n",
       "      <td>N</td>\n",
       "      <td>Product 258744</td>\n",
       "      <td>C</td>\n",
       "      <td>Women</td>\n",
       "    </tr>\n",
       "    <tr>\n",
       "      <th>48</th>\n",
       "      <td>9</td>\n",
       "      <td>2016-01-02 11:55:00</td>\n",
       "      <td>5904487</td>\n",
       "      <td>258744</td>\n",
       "      <td>1</td>\n",
       "      <td>38.99</td>\n",
       "      <td>LOYAL</td>\n",
       "      <td>2014-06-01 00:00:00</td>\n",
       "      <td>N</td>\n",
       "      <td>Product 258744</td>\n",
       "      <td>C</td>\n",
       "      <td>Women</td>\n",
       "    </tr>\n",
       "    <tr>\n",
       "      <th>49</th>\n",
       "      <td>9</td>\n",
       "      <td>2016-01-02 11:55:00</td>\n",
       "      <td>5904487</td>\n",
       "      <td>258744</td>\n",
       "      <td>1</td>\n",
       "      <td>38.99</td>\n",
       "      <td>LOYAL</td>\n",
       "      <td>2014-12-01 00:00:00</td>\n",
       "      <td>N</td>\n",
       "      <td>Product 258744</td>\n",
       "      <td>C</td>\n",
       "      <td>Women</td>\n",
       "    </tr>\n",
       "    <tr>\n",
       "      <th>78</th>\n",
       "      <td>17</td>\n",
       "      <td>2016-01-02 12:35:00</td>\n",
       "      <td>2591778</td>\n",
       "      <td>223453</td>\n",
       "      <td>1</td>\n",
       "      <td>49.99</td>\n",
       "      <td>LOYAL</td>\n",
       "      <td>2015-05-01 00:00:00</td>\n",
       "      <td>N</td>\n",
       "      <td>Product 223453</td>\n",
       "      <td>S</td>\n",
       "      <td>Women</td>\n",
       "    </tr>\n",
       "    <tr>\n",
       "      <th>79</th>\n",
       "      <td>17</td>\n",
       "      <td>2016-01-02 12:35:00</td>\n",
       "      <td>2591778</td>\n",
       "      <td>223453</td>\n",
       "      <td>1</td>\n",
       "      <td>49.99</td>\n",
       "      <td>LOYAL</td>\n",
       "      <td>2015-09-01 00:00:00</td>\n",
       "      <td>N</td>\n",
       "      <td>Product 223453</td>\n",
       "      <td>S</td>\n",
       "      <td>Women</td>\n",
       "    </tr>\n",
       "    <tr>\n",
       "      <th>...</th>\n",
       "      <td>...</td>\n",
       "      <td>...</td>\n",
       "      <td>...</td>\n",
       "      <td>...</td>\n",
       "      <td>...</td>\n",
       "      <td>...</td>\n",
       "      <td>...</td>\n",
       "      <td>...</td>\n",
       "      <td>...</td>\n",
       "      <td>...</td>\n",
       "      <td>...</td>\n",
       "      <td>...</td>\n",
       "    </tr>\n",
       "    <tr>\n",
       "      <th>18057</th>\n",
       "      <td>2662</td>\n",
       "      <td>2016-06-18 10:00:00</td>\n",
       "      <td>3649704</td>\n",
       "      <td>365543537</td>\n",
       "      <td>1</td>\n",
       "      <td>30.99</td>\n",
       "      <td>LOYAL</td>\n",
       "      <td>2014-12-01 00:00:00</td>\n",
       "      <td>N</td>\n",
       "      <td>Product 365543537</td>\n",
       "      <td>L</td>\n",
       "      <td>Women</td>\n",
       "    </tr>\n",
       "    <tr>\n",
       "      <th>18068</th>\n",
       "      <td>2662</td>\n",
       "      <td>2016-06-18 10:00:00</td>\n",
       "      <td>3649704</td>\n",
       "      <td>364872356</td>\n",
       "      <td>1</td>\n",
       "      <td>41.99</td>\n",
       "      <td>LOYAL</td>\n",
       "      <td>2014-12-01 00:00:00</td>\n",
       "      <td>N</td>\n",
       "      <td>Product 364872356</td>\n",
       "      <td>L</td>\n",
       "      <td>Sun</td>\n",
       "    </tr>\n",
       "    <tr>\n",
       "      <th>18085</th>\n",
       "      <td>2665</td>\n",
       "      <td>2016-06-18 17:51:00</td>\n",
       "      <td>4095901</td>\n",
       "      <td>277123</td>\n",
       "      <td>1</td>\n",
       "      <td>89.99</td>\n",
       "      <td>LOYAL</td>\n",
       "      <td>2014-05-01 00:00:00</td>\n",
       "      <td>N</td>\n",
       "      <td>Product 277123</td>\n",
       "      <td>G</td>\n",
       "      <td>Men</td>\n",
       "    </tr>\n",
       "    <tr>\n",
       "      <th>18086</th>\n",
       "      <td>2665</td>\n",
       "      <td>2016-06-18 17:51:00</td>\n",
       "      <td>4095901</td>\n",
       "      <td>277123</td>\n",
       "      <td>1</td>\n",
       "      <td>89.99</td>\n",
       "      <td>LOYAL</td>\n",
       "      <td>2014-10-01 00:00:00</td>\n",
       "      <td>N</td>\n",
       "      <td>Product 277123</td>\n",
       "      <td>G</td>\n",
       "      <td>Men</td>\n",
       "    </tr>\n",
       "    <tr>\n",
       "      <th>18087</th>\n",
       "      <td>2665</td>\n",
       "      <td>2016-06-18 17:51:00</td>\n",
       "      <td>4095901</td>\n",
       "      <td>277123</td>\n",
       "      <td>1</td>\n",
       "      <td>89.99</td>\n",
       "      <td>LOYAL</td>\n",
       "      <td>2015-03-01 00:00:00</td>\n",
       "      <td>N</td>\n",
       "      <td>Product 277123</td>\n",
       "      <td>G</td>\n",
       "      <td>Men</td>\n",
       "    </tr>\n",
       "  </tbody>\n",
       "</table>\n",
       "<p>2793 rows × 12 columns</p>\n",
       "</div>"
      ],
      "text/plain": [
       "       trans_id             trans_dt  cust_id    prod_id  item_qty  \\\n",
       "47            9  2016-01-02 11:55:00  5904487     258744         1   \n",
       "48            9  2016-01-02 11:55:00  5904487     258744         1   \n",
       "49            9  2016-01-02 11:55:00  5904487     258744         1   \n",
       "78           17  2016-01-02 12:35:00  2591778     223453         1   \n",
       "79           17  2016-01-02 12:35:00  2591778     223453         1   \n",
       "...         ...                  ...      ...        ...       ...   \n",
       "18057      2662  2016-06-18 10:00:00  3649704  365543537         1   \n",
       "18068      2662  2016-06-18 10:00:00  3649704  364872356         1   \n",
       "18085      2665  2016-06-18 17:51:00  4095901     277123         1   \n",
       "18086      2665  2016-06-18 17:51:00  4095901     277123         1   \n",
       "18087      2665  2016-06-18 17:51:00  4095901     277123         1   \n",
       "\n",
       "       item_price seg_name            update_at active_flag  \\\n",
       "47          38.99    LOYAL  2014-05-01 00:00:00           N   \n",
       "48          38.99    LOYAL  2014-06-01 00:00:00           N   \n",
       "49          38.99    LOYAL  2014-12-01 00:00:00           N   \n",
       "78          49.99    LOYAL  2015-05-01 00:00:00           N   \n",
       "79          49.99    LOYAL  2015-09-01 00:00:00           N   \n",
       "...           ...      ...                  ...         ...   \n",
       "18057       30.99    LOYAL  2014-12-01 00:00:00           N   \n",
       "18068       41.99    LOYAL  2014-12-01 00:00:00           N   \n",
       "18085       89.99    LOYAL  2014-05-01 00:00:00           N   \n",
       "18086       89.99    LOYAL  2014-10-01 00:00:00           N   \n",
       "18087       89.99    LOYAL  2015-03-01 00:00:00           N   \n",
       "\n",
       "               prod_name brand category  \n",
       "47        Product 258744     C    Women  \n",
       "48        Product 258744     C    Women  \n",
       "49        Product 258744     C    Women  \n",
       "78        Product 223453     S    Women  \n",
       "79        Product 223453     S    Women  \n",
       "...                  ...   ...      ...  \n",
       "18057  Product 365543537     L    Women  \n",
       "18068  Product 364872356     L      Sun  \n",
       "18085     Product 277123     G      Men  \n",
       "18086     Product 277123     G      Men  \n",
       "18087     Product 277123     G      Men  \n",
       "\n",
       "[2793 rows x 12 columns]"
      ]
     },
     "execution_count": 660,
     "metadata": {},
     "output_type": "execute_result"
    }
   ],
   "source": [
    "df[(df['active_flag'] == 'N') & (df['seg_name'] == 'LOYAL')]"
   ]
  },
  {
   "cell_type": "markdown",
   "metadata": {},
   "source": [
    "**Checkout different series in the dataframe -**"
   ]
  },
  {
   "cell_type": "code",
   "execution_count": 661,
   "metadata": {},
   "outputs": [
    {
     "data": {
      "text/plain": [
       "INFREQUENT    5013\n",
       "VIP           4858\n",
       "LOYAL         3632\n",
       "ONE-OFFS      2359\n",
       "LAPSED        1138\n",
       "INACTIVE       485\n",
       "NEW            387\n",
       "GONE AWAY      223\n",
       "Name: seg_name, dtype: int64"
      ]
     },
     "execution_count": 661,
     "metadata": {},
     "output_type": "execute_result"
    }
   ],
   "source": [
    "df.seg_name.value_counts()"
   ]
  },
  {
   "cell_type": "code",
   "execution_count": 662,
   "metadata": {
    "scrolled": true
   },
   "outputs": [
    {
     "data": {
      "text/plain": [
       "Women          8360\n",
       "Make up        6493\n",
       "Men            2069\n",
       "Accessoires     866\n",
       "Sun             307\n",
       "Name: category, dtype: int64"
      ]
     },
     "execution_count": 662,
     "metadata": {},
     "output_type": "execute_result"
    }
   ],
   "source": [
    "df.category.value_counts()"
   ]
  },
  {
   "cell_type": "code",
   "execution_count": 663,
   "metadata": {},
   "outputs": [
    {
     "data": {
      "text/plain": [
       "N    14237\n",
       "Y     3858\n",
       "Name: active_flag, dtype: int64"
      ]
     },
     "execution_count": 663,
     "metadata": {},
     "output_type": "execute_result"
    }
   ],
   "source": [
    "df.active_flag.value_counts()"
   ]
  },
  {
   "cell_type": "code",
   "execution_count": 664,
   "metadata": {},
   "outputs": [
    {
     "data": {
      "text/plain": [
       "(971, 1863, 1491)"
      ]
     },
     "execution_count": 664,
     "metadata": {},
     "output_type": "execute_result"
    }
   ],
   "source": [
    "df.cust_id.nunique(), df.prod_id.nunique(), df.trans_id.nunique()"
   ]
  },
  {
   "cell_type": "code",
   "execution_count": 665,
   "metadata": {},
   "outputs": [
    {
     "name": "stdout",
     "output_type": "stream",
     "text": [
      "<class 'pandas.core.frame.DataFrame'>\n",
      "Int64Index: 18095 entries, 0 to 18096\n",
      "Data columns (total 12 columns):\n",
      " #   Column       Non-Null Count  Dtype         \n",
      "---  ------       --------------  -----         \n",
      " 0   trans_id     18095 non-null  int64         \n",
      " 1   trans_dt     18095 non-null  datetime64[ns]\n",
      " 2   cust_id      18095 non-null  int64         \n",
      " 3   prod_id      18095 non-null  int64         \n",
      " 4   item_qty     18095 non-null  int64         \n",
      " 5   item_price   18095 non-null  float64       \n",
      " 6   seg_name     18095 non-null  object        \n",
      " 7   update_at    18095 non-null  datetime64[ns]\n",
      " 8   active_flag  18095 non-null  object        \n",
      " 9   prod_name    18095 non-null  object        \n",
      " 10  brand        18095 non-null  object        \n",
      " 11  category     18095 non-null  object        \n",
      "dtypes: datetime64[ns](2), float64(1), int64(4), object(5)\n",
      "memory usage: 1.8+ MB\n"
     ]
    }
   ],
   "source": [
    "#changing the trans_dt, updated_at datatype to datetime object\n",
    "df[\"trans_dt\"] = pd.to_datetime(df[\"trans_dt\"])\n",
    "df[\"update_at\"] = pd.to_datetime(df[\"update_at\"])\n",
    "#verify changes\n",
    "df.info()"
   ]
  },
  {
   "cell_type": "code",
   "execution_count": 666,
   "metadata": {},
   "outputs": [],
   "source": [
    "#Change the columns to categorical types because we won't manipulate or perform math opertaions on these variables \n",
    "#They are considered as label groups even though they are integers\n",
    "#df[['trans_id', 'cust_id', 'prod_id']].apply(lambda x: x.astype('category'))\n",
    "\n",
    "for col in ['trans_id', 'cust_id', 'prod_id']:\n",
    "    df[col] = df[col].astype('category')"
   ]
  },
  {
   "cell_type": "code",
   "execution_count": 667,
   "metadata": {},
   "outputs": [
    {
     "data": {
      "text/html": [
       "<div>\n",
       "<style scoped>\n",
       "    .dataframe tbody tr th:only-of-type {\n",
       "        vertical-align: middle;\n",
       "    }\n",
       "\n",
       "    .dataframe tbody tr th {\n",
       "        vertical-align: top;\n",
       "    }\n",
       "\n",
       "    .dataframe thead th {\n",
       "        text-align: right;\n",
       "    }\n",
       "</style>\n",
       "<table border=\"1\" class=\"dataframe\">\n",
       "  <thead>\n",
       "    <tr style=\"text-align: right;\">\n",
       "      <th></th>\n",
       "      <th>trans_id</th>\n",
       "      <th>trans_dt</th>\n",
       "      <th>cust_id</th>\n",
       "      <th>prod_id</th>\n",
       "      <th>item_qty</th>\n",
       "      <th>item_price</th>\n",
       "      <th>seg_name</th>\n",
       "      <th>update_at</th>\n",
       "      <th>active_flag</th>\n",
       "      <th>prod_name</th>\n",
       "      <th>brand</th>\n",
       "      <th>category</th>\n",
       "      <th>trans_month</th>\n",
       "    </tr>\n",
       "  </thead>\n",
       "  <tbody>\n",
       "    <tr>\n",
       "      <th>0</th>\n",
       "      <td>1</td>\n",
       "      <td>2016-01-02 10:06:00</td>\n",
       "      <td>9085146</td>\n",
       "      <td>223029</td>\n",
       "      <td>1</td>\n",
       "      <td>42.99</td>\n",
       "      <td>GONE AWAY</td>\n",
       "      <td>2015-11-01</td>\n",
       "      <td>N</td>\n",
       "      <td>Product 223029</td>\n",
       "      <td>L</td>\n",
       "      <td>Make up</td>\n",
       "      <td>January</td>\n",
       "    </tr>\n",
       "    <tr>\n",
       "      <th>1</th>\n",
       "      <td>1</td>\n",
       "      <td>2016-01-02 10:06:00</td>\n",
       "      <td>9085146</td>\n",
       "      <td>223029</td>\n",
       "      <td>1</td>\n",
       "      <td>42.99</td>\n",
       "      <td>INACTIVE</td>\n",
       "      <td>2014-09-01</td>\n",
       "      <td>N</td>\n",
       "      <td>Product 223029</td>\n",
       "      <td>L</td>\n",
       "      <td>Make up</td>\n",
       "      <td>January</td>\n",
       "    </tr>\n",
       "    <tr>\n",
       "      <th>2</th>\n",
       "      <td>1</td>\n",
       "      <td>2016-01-02 10:06:00</td>\n",
       "      <td>9085146</td>\n",
       "      <td>223029</td>\n",
       "      <td>1</td>\n",
       "      <td>42.99</td>\n",
       "      <td>INACTIVE</td>\n",
       "      <td>2016-01-01</td>\n",
       "      <td>N</td>\n",
       "      <td>Product 223029</td>\n",
       "      <td>L</td>\n",
       "      <td>Make up</td>\n",
       "      <td>January</td>\n",
       "    </tr>\n",
       "    <tr>\n",
       "      <th>3</th>\n",
       "      <td>1</td>\n",
       "      <td>2016-01-02 10:06:00</td>\n",
       "      <td>9085146</td>\n",
       "      <td>223029</td>\n",
       "      <td>1</td>\n",
       "      <td>42.99</td>\n",
       "      <td>LAPSED</td>\n",
       "      <td>2014-01-01</td>\n",
       "      <td>N</td>\n",
       "      <td>Product 223029</td>\n",
       "      <td>L</td>\n",
       "      <td>Make up</td>\n",
       "      <td>January</td>\n",
       "    </tr>\n",
       "    <tr>\n",
       "      <th>4</th>\n",
       "      <td>1</td>\n",
       "      <td>2016-01-02 10:06:00</td>\n",
       "      <td>9085146</td>\n",
       "      <td>223029</td>\n",
       "      <td>1</td>\n",
       "      <td>42.99</td>\n",
       "      <td>LAPSED</td>\n",
       "      <td>2014-03-01</td>\n",
       "      <td>N</td>\n",
       "      <td>Product 223029</td>\n",
       "      <td>L</td>\n",
       "      <td>Make up</td>\n",
       "      <td>January</td>\n",
       "    </tr>\n",
       "  </tbody>\n",
       "</table>\n",
       "</div>"
      ],
      "text/plain": [
       "  trans_id            trans_dt  cust_id prod_id  item_qty  item_price  \\\n",
       "0        1 2016-01-02 10:06:00  9085146  223029         1       42.99   \n",
       "1        1 2016-01-02 10:06:00  9085146  223029         1       42.99   \n",
       "2        1 2016-01-02 10:06:00  9085146  223029         1       42.99   \n",
       "3        1 2016-01-02 10:06:00  9085146  223029         1       42.99   \n",
       "4        1 2016-01-02 10:06:00  9085146  223029         1       42.99   \n",
       "\n",
       "    seg_name  update_at active_flag       prod_name brand category trans_month  \n",
       "0  GONE AWAY 2015-11-01           N  Product 223029     L  Make up     January  \n",
       "1   INACTIVE 2014-09-01           N  Product 223029     L  Make up     January  \n",
       "2   INACTIVE 2016-01-01           N  Product 223029     L  Make up     January  \n",
       "3     LAPSED 2014-01-01           N  Product 223029     L  Make up     January  \n",
       "4     LAPSED 2014-03-01           N  Product 223029     L  Make up     January  "
      ]
     },
     "execution_count": 667,
     "metadata": {},
     "output_type": "execute_result"
    }
   ],
   "source": [
    "#Extracting month from datetime object\n",
    "df['trans_month'] = df['trans_dt'].dt.month_name()\n",
    "#Verify the new coloumn\n",
    "df.head()"
   ]
  },
  {
   "cell_type": "markdown",
   "metadata": {},
   "source": [
    "## Visualization - Exploratory Analysis"
   ]
  },
  {
   "cell_type": "markdown",
   "metadata": {},
   "source": [
    "**Question: Who are the top 5 most valuable customers in the record?**"
   ]
  },
  {
   "cell_type": "code",
   "execution_count": 668,
   "metadata": {},
   "outputs": [
    {
     "data": {
      "image/png": "[encoded data removed]",
      "text/plain": [
       "<Figure size 432x288 with 1 Axes>"
      ]
     },
     "metadata": {
      "needs_background": "light"
     },
     "output_type": "display_data"
    }
   ],
   "source": [
    "#create plot\n",
    "base_color = sb.color_palette()[0]\n",
    "customers_id = df.cust_id.value_counts()[:5].index\n",
    "#sb.barplot(x=df.cust_id.value_counts()[:5].index, y=df.cust_id.value_counts()[:5], color=base_color);\n",
    "sb.countplot(data=df , x='cust_id', color=base_color, order=df.cust_id.value_counts()[:5].index);\n",
    "plt.xlabel('Customer Id Number')\n",
    "plt.xticks(rotation = 30)\n",
    "plt.ylabel('Number of purchases')\n",
    "plt.title('Top 5 customers in the record');"
   ]
  },
  {
   "cell_type": "markdown",
   "metadata": {},
   "source": [
    "> Customer with id = **8662377** has the most number of transcations(over 300) in the lifetime followed by customer id **14258128** and **7049122**. \n"
   ]
  },
  {
   "cell_type": "markdown",
   "metadata": {},
   "source": [
    "**Question : What is the top selling category?**"
   ]
  },
  {
   "cell_type": "code",
   "execution_count": 669,
   "metadata": {},
   "outputs": [
    {
     "data": {
      "image/png": "[encoded data removed]",
      "text/plain": [
       "<Figure size 432x288 with 1 Axes>"
      ]
     },
     "metadata": {
      "needs_background": "light"
     },
     "output_type": "display_data"
    }
   ],
   "source": [
    "#generate proportion\n",
    "n_points = df.shape[0]\n",
    "max_count = df['category'].value_counts().max()\n",
    "max_prop = max_count/n_points\n",
    "\n",
    "#generate tick mark location and names \n",
    "tick_props = np.arange(0, max_prop, 0.05)\n",
    "tick_names = ['{:0.2f}'.format(v) for v in tick_props]\n",
    "\n",
    "#create plot\n",
    "sb.countplot(data=df, x='category', color=sb.color_palette()[5])\n",
    "plt.yticks(tick_props * n_points, tick_names)\n",
    "plt.ylabel('proportion')\n",
    "plt.xlabel('Category type')\n",
    "plt.title('Most popular category');"
   ]
  },
  {
   "cell_type": "markdown",
   "metadata": {},
   "source": [
    "> 'Women' category is close to 50% of purchases, hence it is the most popular item that people like to buy. \n",
    "\n",
    "> 'Women' and 'Make up' together are dominant selling products. \n",
    "\n",
    "> 'Men', 'Accessories', and 'Sun' are not doing well. 'Accessories' and 'Sun' make up only 5% of sales. These products needs to be reconsidered. "
   ]
  },
  {
   "cell_type": "markdown",
   "metadata": {},
   "source": [
    "**Visualizing different Segments of cusomters**"
   ]
  },
  {
   "cell_type": "code",
   "execution_count": 670,
   "metadata": {},
   "outputs": [
    {
     "data": {
      "image/png": "[encoded data removed]",
      "text/plain": [
       "<Figure size 432x288 with 1 Axes>"
      ]
     },
     "metadata": {
      "needs_background": "light"
     },
     "output_type": "display_data"
    }
   ],
   "source": [
    "sb.countplot(data=df, y='seg_name', color=sb.color_palette()[8])\n",
    "plt.ylabel('Type of Segment')\n",
    "plt.xlabel('Count')\n",
    "plt.title('Segments of Customers');"
   ]
  },
  {
   "attachments": {},
   "cell_type": "markdown",
   "metadata": {},
   "source": [
    "> Few 'New' segments of customers are introduced in year of 2016. Looks like company is not interested in bringing new consumers or the efforts are not up to the mark. \n",
    "\n",
    "> It would be great to convert loyal customers to become VIP. "
   ]
  },
  {
   "cell_type": "markdown",
   "metadata": {},
   "source": [
    "**Question : What is the purchase pattern of loyal customers based on the current category offerings?**"
   ]
  },
  {
   "cell_type": "code",
   "execution_count": 671,
   "metadata": {},
   "outputs": [
    {
     "data": {
      "image/png": "[encoded data removed]",
      "text/plain": [
       "<Figure size 864x720 with 1 Axes>"
      ]
     },
     "metadata": {
      "needs_background": "light"
     },
     "output_type": "display_data"
    }
   ],
   "source": [
    "#Visualization of the purchases of top 10 customers in the dataframe\n",
    "#create plot - Top 5 ranked Customers \n",
    "plt.figure(figsize=[12, 10])\n",
    "sb.countplot(data=df, x='cust_id' , hue='category', order=df.cust_id.value_counts()[:5].index);\n",
    "plt.title('What are the categories top customers like to purchase?')\n",
    "plt.ylabel('Number of transcations')\n",
    "plt.xlabel('Customer ID')\n",
    "plt.legend(title = 'Category');"
   ]
  },
  {
   "cell_type": "code",
   "execution_count": 672,
   "metadata": {},
   "outputs": [
    {
     "data": {
      "image/png": "[encoded data removed]",
      "text/plain": [
       "<Figure size 864x720 with 1 Axes>"
      ]
     },
     "metadata": {
      "needs_background": "light"
     },
     "output_type": "display_data"
    }
   ],
   "source": [
    "#create plot- Ranked 5-10 Customers\n",
    "plt.figure(figsize=[12, 10])\n",
    "sb.countplot(data=df, x='cust_id' , hue='category', order=df.cust_id.value_counts()[5:10].index);\n",
    "plt.title('What are the categories top customers like to purchase?')\n",
    "plt.ylabel('Number of transcations')\n",
    "plt.xlabel('Customer ID')\n",
    "plt.legend(title = 'Category');"
   ]
  },
  {
   "cell_type": "markdown",
   "metadata": {},
   "source": [
    "> As we expected: 'Women' and 'Make up' are the top purchases for the customers. \n",
    "\n",
    "> Some customers have bought more 'Make up' over 'Women' products. \n",
    "\n",
    "> These customers have atleast bought 2 type of items. \n"
   ]
  },
  {
   "cell_type": "markdown",
   "metadata": {},
   "source": [
    "**Question: What month was the most profitable?** "
   ]
  },
  {
   "cell_type": "code",
   "execution_count": 680,
   "metadata": {},
   "outputs": [
    {
     "data": {
      "image/png": "[encoded data removed]",
      "text/plain": [
       "<Figure size 504x360 with 1 Axes>"
      ]
     },
     "metadata": {
      "needs_background": "light"
     },
     "output_type": "display_data"
    }
   ],
   "source": [
    "plt.figure(figsize =(7,5))\n",
    "sb.countplot(data=df, x='trans_month', color = sb.color_palette()[7]);\n",
    "plt.title('Purchases per month in 2016')\n",
    "plt.ylabel('Purchases')\n",
    "plt.xlabel('Month');\n",
    "\n",
    "#add annotations\n",
    "n_points = df.shape[0]\n",
    "cat_counts = df.trans_month.value_counts()\n",
    "locs, labels = plt.xticks() # get the current tick locations and labels \n",
    "\n",
    "#loop through each pair of locations and labels \n",
    "for loc, label in zip(locs, labels):\n",
    "    \n",
    "    count = cat_counts[label.get_text()]\n",
    "    pct_string = '{:0.1f}%'.format(100*count/n_points)\n",
    "    \n",
    "    plt.text(loc, count-8, pct_string, ha = 'center', color = 'r')\n",
    "    "
   ]
  },
  {
   "cell_type": "markdown",
   "metadata": {},
   "source": [
    "> In the given dataframe, January (62.4%) was the most profitable month of the year 2016. I am assuming there is a new year sale in this month.   \n",
    "\n",
    "> March - May seems to be consistent with sales. \n",
    "\n",
    "> Lowest number of sales in June (4.4%). "
   ]
  },
  {
   "cell_type": "markdown",
   "metadata": {},
   "source": [
    "**Question : What is the distribution of the active segments?**"
   ]
  },
  {
   "cell_type": "code",
   "execution_count": 674,
   "metadata": {},
   "outputs": [
    {
     "data": {
      "image/png": "[encoded data removed]",
      "text/plain": [
       "<Figure size 432x288 with 1 Axes>"
      ]
     },
     "metadata": {},
     "output_type": "display_data"
    }
   ],
   "source": [
    "sorted_counts = df.active_flag.value_counts()\n",
    "plt.pie(sorted_counts, labels = sorted_counts.index, startangle=90, autopct='%1.2f%%', counterclock = False)\n",
    "plt.axis('square')\n",
    "plt.title('Active vs Non-Active Segments');"
   ]
  },
  {
   "cell_type": "markdown",
   "metadata": {},
   "source": [
    "> Seems like flag is not active the majority of the current customers. "
   ]
  },
  {
   "cell_type": "markdown",
   "metadata": {},
   "source": [
    "**Question : How are labels associated with the categories**"
   ]
  },
  {
   "cell_type": "code",
   "execution_count": 675,
   "metadata": {},
   "outputs": [
    {
     "data": {
      "image/png": "[encoded data removed]",
      "text/plain": [
       "<Figure size 1440x1080 with 1 Axes>"
      ]
     },
     "metadata": {
      "needs_background": "light"
     },
     "output_type": "display_data"
    }
   ],
   "source": [
    "#createplot\n",
    "plt.figure(figsize =[20,15])\n",
    "pal = sb.color_palette(\"Paired\") #color palette is friendly for colorblind individuals\n",
    "sb.countplot(data=df, x='category', hue='brand', palette = pal)\n",
    "plt.legend(title = 'Brand', loc='upper right')\n",
    "plt.xlabel('Categories')\n",
    "plt.ylabel('Number of brand items')\n",
    "plt.title('Brands in different categories');"
   ]
  },
  {
   "cell_type": "markdown",
   "metadata": {},
   "source": [
    "> All the categories have different types of brand selections,\n",
    "\n",
    "> Some brands are limited to specific categories. For example - Brand 'I' can be only seen in 'Women' and 'Men'.\n",
    "\n",
    "> Brand 'C' is the most favored."
   ]
  },
  {
   "cell_type": "markdown",
   "metadata": {},
   "source": [
    "**Question : Show the relation of price for each category**"
   ]
  },
  {
   "cell_type": "code",
   "execution_count": 676,
   "metadata": {},
   "outputs": [
    {
     "data": {
      "image/png": "[encoded data removed]",
      "text/plain": [
       "<Figure size 864x864 with 1 Axes>"
      ]
     },
     "metadata": {
      "needs_background": "light"
     },
     "output_type": "display_data"
    }
   ],
   "source": [
    "plt.figure(figsize =[12,12])\n",
    "sb.boxplot(data=df, x='category', y='item_price', color=base_color)\n",
    "plt.ylim(-5, 220)\n",
    "plt.title('Price distribution for each Category')\n",
    "plt.xlabel('Category')\n",
    "plt.ylabel('Price of the item');"
   ]
  },
  {
   "cell_type": "markdown",
   "metadata": {},
   "source": [
    "> High variance is seen in 'Women' followed by 'Men' category. Hence, 'Women' has the most expensive items present in the inventory. \n",
    "\n",
    "> Central Line in each plot shows indicates the median of the distribution. Top and bottom line represents the third and first quartile of the price respectively. \n",
    "\n",
    "> Max range is set by whisker length. Although, we can see points above the highest whisker in 'Make up', 'Women', 'Men', and 'Accessories' category. This indicates there are many outliers for these categories which are higher than the third quartile. \n"
   ]
  },
  {
   "cell_type": "code",
   "execution_count": 677,
   "metadata": {},
   "outputs": [],
   "source": [
    "#most_occurring_values = df['cust_id'].value_counts().head(3).index\n",
    "#cars_subset = df[df['cust_id'].isin(most_occurring_values)]\n",
    "#sb.stripplot(data = cars_subset, x = 'category', y = 'item_price', hue='cust_id',\n",
    "#             jitter = 0.35, dodge = True, palette='Dark2')"
   ]
  },
  {
   "cell_type": "markdown",
   "metadata": {},
   "source": [
    "**Showing the trend of loyal customers in respect to price and categories**"
   ]
  },
  {
   "cell_type": "code",
   "execution_count": 678,
   "metadata": {},
   "outputs": [
    {
     "data": {
      "image/png": "[encoded data removed]",
      "text/plain": [
       "<Figure size 1058.4x595.44 with 1 Axes>"
      ]
     },
     "metadata": {
      "needs_background": "light"
     },
     "output_type": "display_data"
    }
   ],
   "source": [
    "plt.figure(figsize=[14.70, 8.27])\n",
    "sb.stripplot(x = 'cust_id', y = 'item_price',hue='category', data = df, order=df['cust_id'].value_counts()[:5].index,\n",
    "             jitter=True, dodge = True,size=12, edgecolor='gray',alpha=.25, palette='Dark2')\n",
    "plt.title(\"Trend of loyal customer's price priority in various categories\")\n",
    "plt.legend(title = 'Categories', bbox_to_anchor=(1,0.6) )\n",
    "plt.xlabel('Customer Identification Number')\n",
    "plt.ylabel('Price of the items');"
   ]
  },
  {
   "cell_type": "code",
   "execution_count": 679,
   "metadata": {},
   "outputs": [
    {
     "data": {
      "image/png": "[encoded data removed]",
      "text/plain": [
       "<Figure size 1058.4x595.44 with 1 Axes>"
      ]
     },
     "metadata": {
      "needs_background": "light"
     },
     "output_type": "display_data"
    }
   ],
   "source": [
    "plt.figure(figsize=[14.70, 8.27])\n",
    "sb.stripplot(x = 'cust_id', y = 'item_price',hue='category', data = df, order=df['cust_id'].value_counts()[5:10].index,\n",
    "             jitter=True, dodge = True,size=12, edgecolor='gray',alpha=.25, palette='Dark2')\n",
    "plt.title(\"Trend of loyal customer's price priority in various categories\")\n",
    "plt.legend(title = 'Categories', bbox_to_anchor=(1.13,0.6) )\n",
    "plt.xlabel('Customer Identification Number')\n",
    "plt.ylabel('Price of the items');"
   ]
  },
  {
   "cell_type": "markdown",
   "metadata": {},
   "source": [
    "> Previously, in the box plots we realized the 'Women' category had the 2nd highest median. The trend of most valuable customers shows us that these folks tend to buy items under the Interquartile Range (Approx Item Price: 25-75). "
   ]
  },
  {
   "cell_type": "markdown",
   "metadata": {},
   "source": [
    "## Insights\n",
    "\n",
    "*Overall the original dataset has been very well maintained and didn't require much cleaning.* \n",
    "\n",
    "1. Major revenue comes from products which are under **'Women'** and **'Makeup'** Category. It seems like the company has a target market for females. \n",
    "\n",
    "2. There are large number of **Loyal** customers who have not been categorized as VIP. Incentives can be provided to the Loyal customers to lure them to VIP section.  \n",
    "\n",
    "3. Majority of the purchases are made during the month of **January**. Assuming the 'New Year' sales plays a major factor. \n",
    "\n",
    "4. There is a huge catalog for brand presented by the company. Selling **22** different brands across various categories. \n",
    "\n",
    "5. The customers prefer to buy items whose price falls under a specific range. For 'Women' category there are many outliers. \n",
    "\n",
    "6. Brand 'C' is very popular amongst the top 2 categories. \n",
    "\n",
    "7. Active Segments can be utilized more to understand the behavior of customers, it's not being used efficiently. The    active flag has been set to 'N' for\n",
    "     - 3652 VIP customers\n",
    "     - 2793 LOYAL customers\n",
    "8. Customer 8662377 has the most transactions in the system. "
   ]
  }
 ],
 "metadata": {
  "kernelspec": {
   "display_name": "Python [conda env:root] *",
   "language": "python",
   "name": "conda-root-py"
  },
  "language_info": {
   "codemirror_mode": {
    "name": "ipython",
    "version": 3
   },
   "file_extension": ".py",
   "mimetype": "text/x-python",
   "name": "python",
   "nbconvert_exporter": "python",
   "pygments_lexer": "ipython3",
   "version": "3.7.7"
  }
 },
 "nbformat": 4,
 "nbformat_minor": 4
}
